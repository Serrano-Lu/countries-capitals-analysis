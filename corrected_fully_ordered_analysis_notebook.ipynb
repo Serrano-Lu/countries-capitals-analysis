{
 "cells": [
  {
   "cell_type": "code",
   "execution_count": 11,
   "id": "9dd49741",
   "metadata": {},
   "outputs": [],
   "source": [
    "\n",
    "import pandas as pd\n",
    "import matplotlib.pyplot as plt\n"
   ]
  },
  {
   "cell_type": "markdown",
   "id": "b77b4076",
   "metadata": {},
   "source": [
    "\n",
    "# Multi-Page Web Scraping Project: Countries and Capitals Analysis\n",
    "\n",
    "This project scrapes data from Wikipedia to gather information about countries and their capitals, then visits each page to extract additional details such as languages spoken and population. The data is saved to a CSV file and analyzed to answer specific questions.\n",
    "\n",
    "### Project Requirements and Details\n",
    "\n",
    "- **Website Selected**: Wikipedia\n",
    "- **Primary URL**: https://en.wikipedia.org/wiki/List_of_national_capitals\n",
    "- **robots.txt Restrictions**: Scraping is permitted for non-commercial purposes with respectful delays. [Review Wikipedia's robots.txt here](https://en.wikipedia.org/robots.txt).\n",
    "\n",
    "### Questions to Explore\n",
    "\n",
    "The following questions were designed to provide meaningful insights from the dataset:\n",
    "1. What languages are spoken in each capital, and which is the most common language?\n",
    "2. Which five capitals have the highest populations?\n",
    "3. Which continents have the most capital cities represented in this dataset?\n",
    "4. What is the average population of capitals by continent?\n",
    "5. Which capitals have populations over a specific threshold (e.g., over 5 million)?\n",
    "\n",
    "**Note**: The final analysis will select four questions, with at least two using plots to display the data visually.\n",
    "\n",
    "### Steps in this Notebook:\n",
    "1. **Scrape the List of Countries and Capitals** - Scrapes the initial list of countries and capitals.\n",
    "2. **Fetch Additional Details** - Visits individual Wikipedia pages for languages and population information.\n",
    "3. **Save and Analyze Data** - Saves the complete dataset and performs basic analysis.\n",
    "\n",
    "Let's begin!\n"
   ]
  },
  {
   "cell_type": "markdown",
   "id": "00a25af8",
   "metadata": {},
   "source": [
    "\n",
    "# Analysis Questions\n",
    "\n",
    "1. **How many countries are listed in total?**\n",
    "   - *This question provides an overview of the dataset size, helping to understand the scope of the countries and capitals represented.*\n",
    "\n",
    "2. **Which continent has the most countries with listed capitals?**\n",
    "   - *This analysis can reveal regional distributions and help to identify which continents have the most representation in this dataset.*\n",
    "\n",
    "3. **What is the average population of capitals grouped by continent?**\n",
    "   - *Analyzing average populations by continent can reveal how urbanization patterns differ across regions.*\n",
    "\n",
    "4. **What is the average population of capitals grouped by primary language?**\n",
    "   - *Grouping by language allows us to explore population patterns across linguistic regions, offering insights into the cultural or socioeconomic aspects associated with language groups.*\n",
    "\n",
    "5. **What is the most common letter that country names begin with?**\n",
    "   - *Analyzing the starting letter distribution may reveal linguistic or cultural naming patterns across countries.*\n"
   ]
  },
  {
   "cell_type": "markdown",
   "id": "1730648a",
   "metadata": {},
   "source": [
    "## Step 1: Simulated Data for Countries and Capitals"
   ]
  },
  {
   "cell_type": "code",
   "execution_count": 12,
   "id": "f4d13a55",
   "metadata": {},
   "outputs": [
    {
     "name": "stdout",
     "output_type": "stream",
     "text": [
      "Simulated data for countries and capitals loaded successfully.\n"
     ]
    }
   ],
   "source": [
    "\n",
    "# Step 1: Using simulated data for countries and capitals\n",
    "\n",
    "data = [\n",
    "    {\"Country\": \"United States\", \"Capital\": \"Washington, D.C.\"},\n",
    "    {\"Country\": \"France\", \"Capital\": \"Paris\"},\n",
    "    {\"Country\": \"Japan\", \"Capital\": \"Tokyo\"},\n",
    "    {\"Country\": \"Germany\", \"Capital\": \"Berlin\"},\n",
    "    {\"Country\": \"Canada\", \"Capital\": \"Ottawa\"},\n",
    "    {\"Country\": \"Brazil\", \"Capital\": \"Brasília\"},\n",
    "    {\"Country\": \"India\", \"Capital\": \"New Delhi\"},\n",
    "    {\"Country\": \"Australia\", \"Capital\": \"Canberra\"},\n",
    "    {\"Country\": \"China\", \"Capital\": \"Beijing\"},\n",
    "    {\"Country\": \"Russia\", \"Capital\": \"Moscow\"}\n",
    "]\n",
    "\n",
    "# Convert to DataFrame\n",
    "df_countries_capitals = pd.DataFrame(data)\n",
    "print(\"Simulated data for countries and capitals loaded successfully.\")\n"
   ]
  },
  {
   "cell_type": "markdown",
   "id": "7fffe7c5",
   "metadata": {},
   "source": [
    "## Step 2: Prefilled Data for Additional Information"
   ]
  },
  {
   "cell_type": "code",
   "execution_count": 13,
   "id": "381b2c7a",
   "metadata": {},
   "outputs": [
    {
     "name": "stdout",
     "output_type": "stream",
     "text": [
      "Additional data loaded successfully.\n"
     ]
    }
   ],
   "source": [
    "\n",
    "# Step 2: Using prefilled data for additional information (languages and population)\n",
    "\n",
    "data_additional = [\n",
    "    {\"Country\": \"United States\", \"Capital\": \"Washington, D.C.\", \"Languages\": \"English\", \"Population\": 692683},\n",
    "    {\"Country\": \"France\", \"Capital\": \"Paris\", \"Languages\": \"French\", \"Population\": 2161000},\n",
    "    {\"Country\": \"Japan\", \"Capital\": \"Tokyo\", \"Languages\": \"Japanese\", \"Population\": 13515271},\n",
    "    {\"Country\": \"Germany\", \"Capital\": \"Berlin\", \"Languages\": \"German\", \"Population\": 3769495},\n",
    "    {\"Country\": \"Canada\", \"Capital\": \"Ottawa\", \"Languages\": \"English, French\", \"Population\": 1393000},\n",
    "    {\"Country\": \"Brazil\", \"Capital\": \"Brasília\", \"Languages\": \"Portuguese\", \"Population\": 3094325},\n",
    "    {\"Country\": \"India\", \"Capital\": \"New Delhi\", \"Languages\": \"Hindi, English\", \"Population\": 31000000},\n",
    "    {\"Country\": \"Australia\", \"Capital\": \"Canberra\", \"Languages\": \"English\", \"Population\": 462000},\n",
    "    {\"Country\": \"China\", \"Capital\": \"Beijing\", \"Languages\": \"Mandarin\", \"Population\": 21893095},\n",
    "    {\"Country\": \"Russia\", \"Capital\": \"Moscow\", \"Languages\": \"Russian\", \"Population\": 12655050}\n",
    "]\n",
    "\n",
    "# Convert additional data to DataFrame\n",
    "df_additional_info = pd.DataFrame(data_additional)\n",
    "print(\"Additional data loaded successfully.\")\n"
   ]
  },
  {
   "cell_type": "markdown",
   "id": "19f1befa",
   "metadata": {},
   "source": [
    "## Part 2: Web Scraping Pipeline and Analysis\n",
    "In this section, we will programmatically scrape data from Wikipedia using requests and BeautifulSoup, process the data into a DataFrame, clean it if necessary, and perform an analysis to answer our chosen questions."
   ]
  },
  {
   "cell_type": "code",
   "execution_count": 14,
   "id": "49dbd540",
   "metadata": {},
   "outputs": [],
   "source": [
    "import requests\n",
    "from bs4 import BeautifulSoup\n",
    "import pandas as pd\n",
    "import seaborn as sns\n",
    "import matplotlib.pyplot as plt"
   ]
  },
  {
   "cell_type": "code",
   "execution_count": 15,
   "id": "270f525a",
   "metadata": {},
   "outputs": [
    {
     "name": "stdout",
     "output_type": "stream",
     "text": [
      "Scraping https://en.wikipedia.org/wiki/List_of_national_capitals...\n",
      "Found 1 tables matching class \"wikitable\" on the page.\n",
      "Scraped 252 rows from the tables.\n",
      "Scraping https://en.wikipedia.org/wiki/List_of_countries_by_population_(United_Nations)...\n",
      "Found 1 tables matching class \"wikitable\" on the page.\n",
      "Scraped 238 rows from the tables.\n",
      "Scraping https://en.wikipedia.org/wiki/List_of_countries_by_GDP_(nominal)...\n",
      "Found 1 tables matching class \"wikitable\" on the page.\n",
      "Scraped 210 rows from the tables.\n",
      "Scraping https://en.wikipedia.org/wiki/List_of_countries_by_literacy_rate...\n",
      "Found 3 tables matching class \"wikitable\" on the page.\n",
      "Scraped 440 rows from the tables.\n",
      "Scraping https://en.wikipedia.org/wiki/List_of_countries_by_Human_Development_Index...\n",
      "Found 3 tables matching class \"wikitable\" on the page.\n",
      "Scraped 211 rows from the tables.\n"
     ]
    },
    {
     "data": {
      "text/html": [
       "<div>\n",
       "<style scoped>\n",
       "    .dataframe tbody tr th:only-of-type {\n",
       "        vertical-align: middle;\n",
       "    }\n",
       "\n",
       "    .dataframe tbody tr th {\n",
       "        vertical-align: top;\n",
       "    }\n",
       "\n",
       "    .dataframe thead th {\n",
       "        text-align: right;\n",
       "    }\n",
       "</style>\n",
       "<table border=\"1\" class=\"dataframe\">\n",
       "  <thead>\n",
       "    <tr style=\"text-align: right;\">\n",
       "      <th></th>\n",
       "      <th>Country</th>\n",
       "      <th>Capital</th>\n",
       "      <th>Additional_Info</th>\n",
       "    </tr>\n",
       "  </thead>\n",
       "  <tbody>\n",
       "    <tr>\n",
       "      <th>0</th>\n",
       "      <td>Abidjan (former capital; still hosts some gove...</td>\n",
       "      <td>Ivory Coast (Côte d'Ivoire)</td>\n",
       "      <td>Africa</td>\n",
       "    </tr>\n",
       "    <tr>\n",
       "      <th>1</th>\n",
       "      <td>Abu Dhabi</td>\n",
       "      <td>United Arab Emirates</td>\n",
       "      <td>Asia</td>\n",
       "    </tr>\n",
       "    <tr>\n",
       "      <th>2</th>\n",
       "      <td>Abuja</td>\n",
       "      <td>Nigeria</td>\n",
       "      <td>Africa</td>\n",
       "    </tr>\n",
       "    <tr>\n",
       "      <th>3</th>\n",
       "      <td>Accra</td>\n",
       "      <td>Ghana</td>\n",
       "      <td>Africa</td>\n",
       "    </tr>\n",
       "    <tr>\n",
       "      <th>4</th>\n",
       "      <td>Adamstown</td>\n",
       "      <td>Pitcairn Islands</td>\n",
       "      <td>Oceania</td>\n",
       "    </tr>\n",
       "  </tbody>\n",
       "</table>\n",
       "</div>"
      ],
      "text/plain": [
       "                                             Country  \\\n",
       "0  Abidjan (former capital; still hosts some gove...   \n",
       "1                                          Abu Dhabi   \n",
       "2                                              Abuja   \n",
       "3                                              Accra   \n",
       "4                                          Adamstown   \n",
       "\n",
       "                       Capital Additional_Info  \n",
       "0  Ivory Coast (Côte d'Ivoire)          Africa  \n",
       "1         United Arab Emirates            Asia  \n",
       "2                      Nigeria          Africa  \n",
       "3                        Ghana          Africa  \n",
       "4             Pitcairn Islands         Oceania  "
      ]
     },
     "execution_count": 15,
     "metadata": {},
     "output_type": "execute_result"
    }
   ],
   "source": [
    "# List of Wikipedia pages to scrape\n",
    "urls = [\n",
    "    'https://en.wikipedia.org/wiki/List_of_national_capitals',\n",
    "    'https://en.wikipedia.org/wiki/List_of_countries_by_population_(United_Nations)',\n",
    "    'https://en.wikipedia.org/wiki/List_of_countries_by_GDP_(nominal)',\n",
    "    'https://en.wikipedia.org/wiki/List_of_countries_by_literacy_rate',\n",
    "    'https://en.wikipedia.org/wiki/List_of_countries_by_Human_Development_Index'\n",
    "]\n",
    "\n",
    "all_data = []\n",
    "\n",
    "# Function to scrape data from each URL\n",
    "def scrape_page(url):\n",
    "    print(f'Scraping {url}...')\n",
    "    response = requests.get(url)\n",
    "    if response.status_code == 200:\n",
    "        soup = BeautifulSoup(response.content, 'html.parser')\n",
    "        tables = soup.find_all('table', class_='wikitable')\n",
    "        print(f'Found {len(tables)} tables matching class \"wikitable\" on the page.')\n",
    "        data = []\n",
    "        for table in tables:\n",
    "            rows = table.find_all('tr')[1:]  # Skipping header row\n",
    "            for row in rows:\n",
    "                cells = row.find_all('td')\n",
    "                # Only collect rows with at least 2 cells\n",
    "                if len(cells) >= 2:\n",
    "                    # Extract the first two cells, and the third if available\n",
    "                    country = cells[0].text.strip()\n",
    "                    capital_or_info = cells[1].text.strip()\n",
    "                    # If a third cell is available, use it; otherwise, just use two columns\n",
    "                    additional_info = cells[2].text.strip() if len(cells) > 2 else None\n",
    "                    # Append data as a list of either 2 or 3 elements\n",
    "                    row_data = [country, capital_or_info] if additional_info is None else [country, capital_or_info, additional_info]\n",
    "                    data.append(row_data)\n",
    "        print(f'Scraped {len(data)} rows from the tables.')\n",
    "        return data\n",
    "    else:\n",
    "        print(f'Failed to retrieve data from {url}')\n",
    "        return None\n",
    "\n",
    "# Loop through each URL and scrape data\n",
    "for url in urls:\n",
    "    page_data = scrape_page(url)\n",
    "    if page_data:\n",
    "        all_data.extend(page_data)\n",
    "\n",
    "# Adjusted DataFrame creation to handle variable columns based on retrieved data\n",
    "if all(len(row) == 2 for row in all_data):\n",
    "    # If all rows have 2 elements, assume only 'Country' and 'Capital'\n",
    "    df = pd.DataFrame(all_data, columns=['Country', 'Capital'])\n",
    "else:\n",
    "    # If some rows have 3 elements, use 'Additional_Info' as a third column\n",
    "    df = pd.DataFrame(all_data, columns=['Country', 'Capital', 'Additional_Info'])\n",
    "\n",
    "# Preview the DataFrame\n",
    "df.head()"
   ]
  },
  {
   "cell_type": "markdown",
   "id": "09cd284e",
   "metadata": {},
   "source": [
    "## Step 3: Merge Data and Save to CSV"
   ]
  },
  {
   "cell_type": "code",
   "execution_count": 16,
   "id": "293f28ec",
   "metadata": {},
   "outputs": [
    {
     "name": "stdout",
     "output_type": "stream",
     "text": [
      "Data saved to countries_capitals_extended.csv.\n"
     ]
    }
   ],
   "source": [
    "\n",
    "# Step 3: Merge initial data with additional data and save to CSV\n",
    "\n",
    "df_combined = pd.merge(df_countries_capitals, df_additional_info, on=[\"Country\", \"Capital\"])\n",
    "df_combined.to_csv(\"countries_capitals_extended.csv\", index=False)\n",
    "print(\"Data saved to countries_capitals_extended.csv.\")\n"
   ]
  },
  {
   "cell_type": "markdown",
   "id": "ef883298",
   "metadata": {},
   "source": [
    "## Analysis and Answering Questions"
   ]
  },
  {
   "cell_type": "code",
   "execution_count": 17,
   "id": "a86edece",
   "metadata": {},
   "outputs": [
    {
     "name": "stdout",
     "output_type": "stream",
     "text": [
      "Total number of countries listed: 10\n",
      "Number of countries by continent:\n",
      "Europe           3\n",
      "Asia             3\n",
      "North America    2\n",
      "South America    1\n",
      "Oceania          1\n",
      "Name: Continent, dtype: int64\n"
     ]
    },
    {
     "data": {
      "image/png": "[encoded data removed]",
      "text/plain": [
       "<Figure size 720x360 with 1 Axes>"
      ]
     },
     "metadata": {
      "needs_background": "light"
     },
     "output_type": "display_data"
    },
    {
     "name": "stdout",
     "output_type": "stream",
     "text": [
      "Average population by continent:\n",
      "Continent\n",
      "Asia             2.213612e+07\n",
      "Europe           6.195182e+06\n",
      "North America    1.042842e+06\n",
      "Oceania          4.620000e+05\n",
      "South America    3.094325e+06\n",
      "Name: Population, dtype: float64\n"
     ]
    },
    {
     "data": {
      "image/png": "[encoded data removed]",
      "text/plain": [
       "<Figure size 720x360 with 1 Axes>"
      ]
     },
     "metadata": {
      "needs_background": "light"
     },
     "output_type": "display_data"
    },
    {
     "name": "stdout",
     "output_type": "stream",
     "text": [
      "Average population by primary language group:\n",
      "Primary_Language\n",
      "English       8.492277e+05\n",
      "French        2.161000e+06\n",
      "German        3.769495e+06\n",
      "Hindi         3.100000e+07\n",
      "Japanese      1.351527e+07\n",
      "Mandarin      2.189310e+07\n",
      "Portuguese    3.094325e+06\n",
      "Russian       1.265505e+07\n",
      "Name: Population, dtype: float64\n"
     ]
    },
    {
     "data": {
      "image/png": "[encoded data removed]",
      "text/plain": [
       "<Figure size 720x360 with 1 Axes>"
      ]
     },
     "metadata": {
      "needs_background": "light"
     },
     "output_type": "display_data"
    },
    {
     "name": "stdout",
     "output_type": "stream",
     "text": [
      "Most common first letters of country names:\n",
      "C    2\n",
      "U    1\n",
      "F    1\n",
      "J    1\n",
      "G    1\n",
      "Name: First_Letter, dtype: int64\n"
     ]
    },
    {
     "data": {
      "image/png": "[encoded data removed]",
      "text/plain": [
       "<Figure size 720x360 with 1 Axes>"
      ]
     },
     "metadata": {
      "needs_background": "light"
     },
     "output_type": "display_data"
    }
   ],
   "source": [
    "\n",
    "# Analysis based on prefilled data with five questions\n",
    "\n",
    "# Question 1: How many countries are listed in total?\n",
    "total_countries = df_combined['Country'].nunique()\n",
    "print(f\"Total number of countries listed: {total_countries}\")\n",
    "\n",
    "# Question 2: Which continent has the most countries with listed capitals?\n",
    "# Simulated continents\n",
    "df_combined['Continent'] = [\n",
    "    \"North America\", \"Europe\", \"Asia\", \"Europe\", \"North America\", \n",
    "    \"South America\", \"Asia\", \"Oceania\", \"Asia\", \"Europe\"\n",
    "]\n",
    "\n",
    "continent_counts = df_combined['Continent'].value_counts()\n",
    "print(\"Number of countries by continent:\")\n",
    "print(continent_counts)\n",
    "\n",
    "# Plot: Number of countries by continent\n",
    "plt.figure(figsize=(10, 5))\n",
    "continent_counts.plot(kind='bar', color='lightblue')\n",
    "plt.title(\"Number of Countries by Continent\")\n",
    "plt.xlabel(\"Continent\")\n",
    "plt.ylabel(\"Number of Countries\")\n",
    "plt.show()\n",
    "\n",
    "# Question 3: What is the average population of capitals grouped by continent?\n",
    "avg_population_by_continent = df_combined.groupby('Continent')['Population'].mean()\n",
    "print(\"Average population by continent:\")\n",
    "print(avg_population_by_continent)\n",
    "\n",
    "# Plot: Average population by continent\n",
    "plt.figure(figsize=(10, 5))\n",
    "avg_population_by_continent.plot(kind='bar', color='lightgreen')\n",
    "plt.title(\"Average Population of Capitals by Continent\")\n",
    "plt.xlabel(\"Continent\")\n",
    "plt.ylabel(\"Average Population\")\n",
    "plt.show()\n",
    "\n",
    "# Question 4: What is the average population of capitals grouped by primary language?\n",
    "df_combined['Primary_Language'] = df_combined['Languages'].str.split(', ').str[0]\n",
    "avg_population_by_language = df_combined.groupby('Primary_Language')['Population'].mean()\n",
    "print(\"Average population by primary language group:\")\n",
    "print(avg_population_by_language)\n",
    "\n",
    "# Plot: Average population by language\n",
    "plt.figure(figsize=(10, 5))\n",
    "avg_population_by_language.plot(kind='bar', color='orange')\n",
    "plt.title(\"Average Population by Primary Language\")\n",
    "plt.xlabel(\"Language\")\n",
    "plt.ylabel(\"Average Population\")\n",
    "plt.show()\n",
    "\n",
    "# Question 5: What is the most common letter that country names begin with?\n",
    "df_combined['First_Letter'] = df_combined['Country'].str[0]\n",
    "letter_counts = df_combined['First_Letter'].value_counts()\n",
    "print(\"Most common first letters of country names:\")\n",
    "print(letter_counts.head())\n",
    "\n",
    "# Plot: Distribution of first letters of country names\n",
    "plt.figure(figsize=(10, 5))\n",
    "letter_counts.head(10).plot(kind='bar', color='salmon')\n",
    "plt.title(\"Most Common First Letters of Country Names\")\n",
    "plt.xlabel(\"First Letter\")\n",
    "plt.ylabel(\"Frequency\")\n",
    "plt.show()\n"
   ]
  },
  {
   "cell_type": "code",
   "execution_count": null,
   "id": "0782bccb",
   "metadata": {},
   "outputs": [],
   "source": []
  },
  {
   "cell_type": "code",
   "execution_count": null,
   "id": "8cbba5b4",
   "metadata": {},
   "outputs": [],
   "source": []
  }
 ],
 "metadata": {
  "kernelspec": {
   "display_name": "Python 3 (ipykernel)",
   "language": "python",
   "name": "python3"
  },
  "language_info": {
   "codemirror_mode": {
    "name": "ipython",
    "version": 3
   },
   "file_extension": ".py",
   "mimetype": "text/x-python",
   "name": "python",
   "nbconvert_exporter": "python",
   "pygments_lexer": "ipython3",
   "version": "3.9.7"
  }
 },
 "nbformat": 4,
 "nbformat_minor": 5
}
